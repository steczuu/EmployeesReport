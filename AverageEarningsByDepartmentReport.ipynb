{
 "cells": [
  {
   "cell_type": "markdown",
   "metadata": {},
   "source": [
    "Libraries"
   ]
  },
  {
   "cell_type": "code",
   "execution_count": 1,
   "metadata": {},
   "outputs": [],
   "source": [
    "import pandas as pd \n",
    "import numpy as np\n",
    "import matplotlib.pyplot as plt"
   ]
  },
  {
   "cell_type": "code",
   "execution_count": 2,
   "metadata": {},
   "outputs": [],
   "source": [
    "employees = pd.read_excel('./Data/Data.xlsx')"
   ]
  },
  {
   "cell_type": "code",
   "execution_count": 24,
   "metadata": {},
   "outputs": [
    {
     "data": {
      "text/html": [
       "<div>\n",
       "<style scoped>\n",
       "    .dataframe tbody tr th:only-of-type {\n",
       "        vertical-align: middle;\n",
       "    }\n",
       "\n",
       "    .dataframe tbody tr th {\n",
       "        vertical-align: top;\n",
       "    }\n",
       "\n",
       "    .dataframe thead th {\n",
       "        text-align: right;\n",
       "    }\n",
       "</style>\n",
       "<table border=\"1\" class=\"dataframe\">\n",
       "  <thead>\n",
       "    <tr style=\"text-align: right;\">\n",
       "      <th></th>\n",
       "      <th>ID</th>\n",
       "      <th>Imię</th>\n",
       "      <th>Nazwisko</th>\n",
       "      <th>Stanowisko</th>\n",
       "      <th>Zarobki</th>\n",
       "      <th>Typ Stanowiska</th>\n",
       "    </tr>\n",
       "  </thead>\n",
       "  <tbody>\n",
       "    <tr>\n",
       "      <th>0</th>\n",
       "      <td>1</td>\n",
       "      <td>Anna</td>\n",
       "      <td>Kowalska</td>\n",
       "      <td>Kierownik</td>\n",
       "      <td>7500</td>\n",
       "      <td>Zarządzanie</td>\n",
       "    </tr>\n",
       "    <tr>\n",
       "      <th>1</th>\n",
       "      <td>2</td>\n",
       "      <td>Piotr</td>\n",
       "      <td>Nowak</td>\n",
       "      <td>Programista</td>\n",
       "      <td>6200</td>\n",
       "      <td>Techniczne</td>\n",
       "    </tr>\n",
       "    <tr>\n",
       "      <th>2</th>\n",
       "      <td>3</td>\n",
       "      <td>Marta</td>\n",
       "      <td>Wiśniewska</td>\n",
       "      <td>Analityk</td>\n",
       "      <td>5600</td>\n",
       "      <td>Analityczne</td>\n",
       "    </tr>\n",
       "    <tr>\n",
       "      <th>3</th>\n",
       "      <td>4</td>\n",
       "      <td>Andrzej</td>\n",
       "      <td>Kaczmarek</td>\n",
       "      <td>Grafik</td>\n",
       "      <td>4900</td>\n",
       "      <td>Kreatywne</td>\n",
       "    </tr>\n",
       "    <tr>\n",
       "      <th>4</th>\n",
       "      <td>5</td>\n",
       "      <td>Katarzyna</td>\n",
       "      <td>Zielińska</td>\n",
       "      <td>Specjalista ds. HR</td>\n",
       "      <td>5500</td>\n",
       "      <td>Administracyjne</td>\n",
       "    </tr>\n",
       "  </tbody>\n",
       "</table>\n",
       "</div>"
      ],
      "text/plain": [
       "   ID       Imię    Nazwisko          Stanowisko  Zarobki   Typ Stanowiska\n",
       "0   1       Anna    Kowalska           Kierownik     7500      Zarządzanie\n",
       "1   2      Piotr       Nowak         Programista     6200       Techniczne\n",
       "2   3      Marta  Wiśniewska            Analityk     5600      Analityczne\n",
       "3   4    Andrzej   Kaczmarek              Grafik     4900        Kreatywne\n",
       "4   5  Katarzyna   Zielińska  Specjalista ds. HR     5500  Administracyjne"
      ]
     },
     "execution_count": 3,
     "metadata": {},
     "output_type": "execute_result"
    }
   ],
   "source": [
    "employees.head()"
   ]
  },
  {
   "cell_type": "code",
   "execution_count": 25,
   "metadata": {},
   "outputs": [
    {
     "name": "stdout",
     "output_type": "stream",
     "text": [
      "<class 'pandas.core.frame.DataFrame'>\n",
      "RangeIndex: 60 entries, 0 to 59\n",
      "Data columns (total 6 columns):\n",
      " #   Column          Non-Null Count  Dtype \n",
      "---  ------          --------------  ----- \n",
      " 0   ID              60 non-null     int64 \n",
      " 1   Imię            60 non-null     object\n",
      " 2   Nazwisko        60 non-null     object\n",
      " 3   Stanowisko      60 non-null     object\n",
      " 4   Zarobki         60 non-null     int64 \n",
      " 5   Typ Stanowiska  60 non-null     object\n",
      "dtypes: int64(2), object(4)\n",
      "memory usage: 2.9+ KB\n"
     ]
    }
   ],
   "source": [
    "employees.info()"
   ]
  },
  {
   "cell_type": "markdown",
   "metadata": {},
   "source": [
    "Calculating average earnings by department"
   ]
  },
  {
   "cell_type": "code",
   "execution_count": 5,
   "metadata": {},
   "outputs": [],
   "source": [
    "avg_earnings_by_department = employees.groupby('Typ Stanowiska')['Zarobki'].mean()"
   ]
  },
  {
   "cell_type": "code",
   "execution_count": 6,
   "metadata": {},
   "outputs": [
    {
     "data": {
      "text/plain": [
       "Typ Stanowiska\n",
       "Administracyjne    4870.000000\n",
       "Analityczne        5783.333333\n",
       "Kreatywne          5100.000000\n",
       "Marketing          5700.000000\n",
       "Sprzedaż           5850.000000\n",
       "Techniczne         5890.000000\n",
       "Zarządzanie        6992.307692\n",
       "Name: Zarobki, dtype: float64"
      ]
     },
     "execution_count": 6,
     "metadata": {},
     "output_type": "execute_result"
    }
   ],
   "source": [
    "avg_earnings_by_department"
   ]
  },
  {
   "cell_type": "markdown",
   "metadata": {},
   "source": [
    "Plotting the results"
   ]
  },
  {
   "cell_type": "code",
   "execution_count": 8,
   "metadata": {},
   "outputs": [
    {
     "data": {
      "text/plain": [
       "<Axes: title={'center': 'Average Earnings by Department'}, xlabel='Typ Stanowiska', ylabel='Zarobki'>"
      ]
     },
     "execution_count": 8,
     "metadata": {},
     "output_type": "execute_result"
    },
    {
     "data": {
      "image/png": "[encoded data removed]",
      "text/plain": [
       "<Figure size 640x480 with 1 Axes>"
      ]
     },
     "metadata": {},
     "output_type": "display_data"
    }
   ],
   "source": [
    "plt.title(\"Average Earnings by Department\")\n",
    "plt.ylabel('Zarobki')\n",
    "avg_earnings_by_department.plot(kind = 'bar', x='Typ Stanowiska', y='Zarobki')"
   ]
  },
  {
   "cell_type": "code",
   "execution_count": 33,
   "metadata": {},
   "outputs": [
    {
     "data": {
      "text/plain": [
       "<Figure size 1200x800 with 0 Axes>"
      ]
     },
     "metadata": {},
     "output_type": "display_data"
    },
    {
     "data": {
      "image/png": "[encoded data removed]",
      "text/plain": [
       "<Figure size 640x480 with 1 Axes>"
      ]
     },
     "metadata": {},
     "output_type": "display_data"
    }
   ],
   "source": [
    "plt.figure(figsize=(12, 8))\n",
    "employees.boxplot(column='Zarobki', by='Typ Stanowiska', rot=45)\n",
    "plt.title(\"Podział zarobków według działów\")\n",
    "plt.suptitle('')\n",
    "plt.xlabel('Dział')\n",
    "plt.ylabel('Zarobki')\n",
    "plt.tight_layout()"
   ]
  },
  {
   "cell_type": "markdown",
   "metadata": {},
   "source": [
    "Lowest paid employees"
   ]
  },
  {
   "cell_type": "code",
   "execution_count": 12,
   "metadata": {},
   "outputs": [
    {
     "data": {
      "text/html": [
       "<div>\n",
       "<style scoped>\n",
       "    .dataframe tbody tr th:only-of-type {\n",
       "        vertical-align: middle;\n",
       "    }\n",
       "\n",
       "    .dataframe tbody tr th {\n",
       "        vertical-align: top;\n",
       "    }\n",
       "\n",
       "    .dataframe thead th {\n",
       "        text-align: right;\n",
       "    }\n",
       "</style>\n",
       "<table border=\"1\" class=\"dataframe\">\n",
       "  <thead>\n",
       "    <tr style=\"text-align: right;\">\n",
       "      <th></th>\n",
       "      <th>ID</th>\n",
       "      <th>Imię</th>\n",
       "      <th>Nazwisko</th>\n",
       "      <th>Stanowisko</th>\n",
       "      <th>Zarobki</th>\n",
       "      <th>Typ Stanowiska</th>\n",
       "    </tr>\n",
       "  </thead>\n",
       "  <tbody>\n",
       "    <tr>\n",
       "      <th>0</th>\n",
       "      <td>3</td>\n",
       "      <td>Marta</td>\n",
       "      <td>Wiśniewska</td>\n",
       "      <td>Analityk</td>\n",
       "      <td>5600</td>\n",
       "      <td>Analityczne</td>\n",
       "    </tr>\n",
       "    <tr>\n",
       "      <th>1</th>\n",
       "      <td>4</td>\n",
       "      <td>Andrzej</td>\n",
       "      <td>Kaczmarek</td>\n",
       "      <td>Grafik</td>\n",
       "      <td>4900</td>\n",
       "      <td>Kreatywne</td>\n",
       "    </tr>\n",
       "    <tr>\n",
       "      <th>2</th>\n",
       "      <td>8</td>\n",
       "      <td>Michał</td>\n",
       "      <td>Wójcik</td>\n",
       "      <td>Tester</td>\n",
       "      <td>4500</td>\n",
       "      <td>Techniczne</td>\n",
       "    </tr>\n",
       "    <tr>\n",
       "      <th>3</th>\n",
       "      <td>9</td>\n",
       "      <td>Julia</td>\n",
       "      <td>Król</td>\n",
       "      <td>Asystentka</td>\n",
       "      <td>4000</td>\n",
       "      <td>Administracyjne</td>\n",
       "    </tr>\n",
       "    <tr>\n",
       "      <th>4</th>\n",
       "      <td>12</td>\n",
       "      <td>Grzegorz</td>\n",
       "      <td>Piotrowski</td>\n",
       "      <td>Specjalista ds. sprzedaży</td>\n",
       "      <td>5800</td>\n",
       "      <td>Sprzedaż</td>\n",
       "    </tr>\n",
       "    <tr>\n",
       "      <th>5</th>\n",
       "      <td>25</td>\n",
       "      <td>Elżbieta</td>\n",
       "      <td>Kaczmarek</td>\n",
       "      <td>Kierownik ds. obsługi klienta</td>\n",
       "      <td>5900</td>\n",
       "      <td>Zarządzanie</td>\n",
       "    </tr>\n",
       "    <tr>\n",
       "      <th>6</th>\n",
       "      <td>36</td>\n",
       "      <td>Natalia</td>\n",
       "      <td>Kowalewska</td>\n",
       "      <td>Specjalista ds. social media</td>\n",
       "      <td>5500</td>\n",
       "      <td>Marketing</td>\n",
       "    </tr>\n",
       "  </tbody>\n",
       "</table>\n",
       "</div>"
      ],
      "text/plain": [
       "   ID      Imię    Nazwisko                     Stanowisko  Zarobki  \\\n",
       "0   3     Marta  Wiśniewska                       Analityk     5600   \n",
       "1   4   Andrzej   Kaczmarek                         Grafik     4900   \n",
       "2   8    Michał      Wójcik                         Tester     4500   \n",
       "3   9     Julia        Król                     Asystentka     4000   \n",
       "4  12  Grzegorz  Piotrowski      Specjalista ds. sprzedaży     5800   \n",
       "5  25  Elżbieta   Kaczmarek  Kierownik ds. obsługi klienta     5900   \n",
       "6  36   Natalia  Kowalewska   Specjalista ds. social media     5500   \n",
       "\n",
       "    Typ Stanowiska  \n",
       "0      Analityczne  \n",
       "1        Kreatywne  \n",
       "2       Techniczne  \n",
       "3  Administracyjne  \n",
       "4         Sprzedaż  \n",
       "5      Zarządzanie  \n",
       "6        Marketing  "
      ]
     },
     "execution_count": 12,
     "metadata": {},
     "output_type": "execute_result"
    }
   ],
   "source": [
    "min_salaries = employees.groupby('Typ Stanowiska')['Zarobki'].min().reset_index()\n",
    "underpaid_employees = pd.merge(employees,min_salaries, on=['Typ Stanowiska','Zarobki'])\n",
    "\n",
    "underpaid_employees"
   ]
  },
  {
   "cell_type": "code",
   "execution_count": 32,
   "metadata": {},
   "outputs": [
    {
     "data": {
      "text/plain": [
       "Typ Stanowiska\n",
       "Administracyjne    4870.000000\n",
       "Analityczne        5783.333333\n",
       "Kreatywne          5100.000000\n",
       "Marketing          5700.000000\n",
       "Sprzedaż           5850.000000\n",
       "Techniczne         5890.000000\n",
       "Zarządzanie        6992.307692\n",
       "Name: Zarobki, dtype: float64"
      ]
     },
     "execution_count": 32,
     "metadata": {},
     "output_type": "execute_result"
    }
   ],
   "source": [
    "avg_earnings_by_department"
   ]
  },
  {
   "cell_type": "markdown",
   "metadata": {},
   "source": [
    "Salary equalization"
   ]
  },
  {
   "cell_type": "code",
   "execution_count": 39,
   "metadata": {},
   "outputs": [
    {
     "data": {
      "text/html": [
       "<div>\n",
       "<style scoped>\n",
       "    .dataframe tbody tr th:only-of-type {\n",
       "        vertical-align: middle;\n",
       "    }\n",
       "\n",
       "    .dataframe tbody tr th {\n",
       "        vertical-align: top;\n",
       "    }\n",
       "\n",
       "    .dataframe thead th {\n",
       "        text-align: right;\n",
       "    }\n",
       "</style>\n",
       "<table border=\"1\" class=\"dataframe\">\n",
       "  <thead>\n",
       "    <tr style=\"text-align: right;\">\n",
       "      <th></th>\n",
       "      <th>Imię</th>\n",
       "      <th>Nazwisko</th>\n",
       "      <th>ID</th>\n",
       "      <th>Rise to mean</th>\n",
       "    </tr>\n",
       "  </thead>\n",
       "  <tbody>\n",
       "    <tr>\n",
       "      <th>0</th>\n",
       "      <td>Alicja</td>\n",
       "      <td>Majewska</td>\n",
       "      <td>15</td>\n",
       "      <td>83.333333</td>\n",
       "    </tr>\n",
       "    <tr>\n",
       "      <th>1</th>\n",
       "      <td>Andrzej</td>\n",
       "      <td>Kaczmarek</td>\n",
       "      <td>4</td>\n",
       "      <td>200.000000</td>\n",
       "    </tr>\n",
       "    <tr>\n",
       "      <th>2</th>\n",
       "      <td>Bartosz</td>\n",
       "      <td>Lisowski</td>\n",
       "      <td>18</td>\n",
       "      <td>1190.000000</td>\n",
       "    </tr>\n",
       "    <tr>\n",
       "      <th>3</th>\n",
       "      <td>Damian</td>\n",
       "      <td>Kowalewski</td>\n",
       "      <td>16</td>\n",
       "      <td>192.307692</td>\n",
       "    </tr>\n",
       "    <tr>\n",
       "      <th>4</th>\n",
       "      <td>Elżbieta</td>\n",
       "      <td>Kaczmarek</td>\n",
       "      <td>25</td>\n",
       "      <td>1092.307692</td>\n",
       "    </tr>\n",
       "    <tr>\n",
       "      <th>5</th>\n",
       "      <td>Emil</td>\n",
       "      <td>Mazur</td>\n",
       "      <td>39</td>\n",
       "      <td>100.000000</td>\n",
       "    </tr>\n",
       "    <tr>\n",
       "      <th>6</th>\n",
       "      <td>Grzegorz</td>\n",
       "      <td>Piotrowski</td>\n",
       "      <td>12</td>\n",
       "      <td>50.000000</td>\n",
       "    </tr>\n",
       "    <tr>\n",
       "      <th>7</th>\n",
       "      <td>Helena</td>\n",
       "      <td>Wilk</td>\n",
       "      <td>48</td>\n",
       "      <td>92.307692</td>\n",
       "    </tr>\n",
       "    <tr>\n",
       "      <th>8</th>\n",
       "      <td>Julia</td>\n",
       "      <td>Król</td>\n",
       "      <td>9</td>\n",
       "      <td>870.000000</td>\n",
       "    </tr>\n",
       "    <tr>\n",
       "      <th>9</th>\n",
       "      <td>Justyna</td>\n",
       "      <td>Wierzbowska</td>\n",
       "      <td>38</td>\n",
       "      <td>192.307692</td>\n",
       "    </tr>\n",
       "    <tr>\n",
       "      <th>10</th>\n",
       "      <td>Kinga</td>\n",
       "      <td>Mroczek</td>\n",
       "      <td>29</td>\n",
       "      <td>270.000000</td>\n",
       "    </tr>\n",
       "    <tr>\n",
       "      <th>11</th>\n",
       "      <td>Krystyna</td>\n",
       "      <td>Zielińska</td>\n",
       "      <td>42</td>\n",
       "      <td>83.333333</td>\n",
       "    </tr>\n",
       "    <tr>\n",
       "      <th>12</th>\n",
       "      <td>Krzysztof</td>\n",
       "      <td>Jankowski</td>\n",
       "      <td>56</td>\n",
       "      <td>1090.000000</td>\n",
       "    </tr>\n",
       "    <tr>\n",
       "      <th>13</th>\n",
       "      <td>Marta</td>\n",
       "      <td>Sokołowska</td>\n",
       "      <td>19</td>\n",
       "      <td>670.000000</td>\n",
       "    </tr>\n",
       "    <tr>\n",
       "      <th>14</th>\n",
       "      <td>Marta</td>\n",
       "      <td>Wiśniewska</td>\n",
       "      <td>3</td>\n",
       "      <td>183.333333</td>\n",
       "    </tr>\n",
       "    <tr>\n",
       "      <th>15</th>\n",
       "      <td>Michał</td>\n",
       "      <td>Wójcik</td>\n",
       "      <td>8</td>\n",
       "      <td>1390.000000</td>\n",
       "    </tr>\n",
       "    <tr>\n",
       "      <th>16</th>\n",
       "      <td>Monika</td>\n",
       "      <td>Piwowarska</td>\n",
       "      <td>46</td>\n",
       "      <td>570.000000</td>\n",
       "    </tr>\n",
       "    <tr>\n",
       "      <th>17</th>\n",
       "      <td>Natalia</td>\n",
       "      <td>Kowalewska</td>\n",
       "      <td>36</td>\n",
       "      <td>200.000000</td>\n",
       "    </tr>\n",
       "    <tr>\n",
       "      <th>18</th>\n",
       "      <td>Olga</td>\n",
       "      <td>Zawisza</td>\n",
       "      <td>40</td>\n",
       "      <td>1190.000000</td>\n",
       "    </tr>\n",
       "    <tr>\n",
       "      <th>19</th>\n",
       "      <td>Paulina</td>\n",
       "      <td>Kołodziej</td>\n",
       "      <td>58</td>\n",
       "      <td>370.000000</td>\n",
       "    </tr>\n",
       "    <tr>\n",
       "      <th>20</th>\n",
       "      <td>Tomasz</td>\n",
       "      <td>Adamczyk</td>\n",
       "      <td>6</td>\n",
       "      <td>890.000000</td>\n",
       "    </tr>\n",
       "    <tr>\n",
       "      <th>21</th>\n",
       "      <td>Wioletta</td>\n",
       "      <td>Skowrońska</td>\n",
       "      <td>44</td>\n",
       "      <td>100.000000</td>\n",
       "    </tr>\n",
       "  </tbody>\n",
       "</table>\n",
       "</div>"
      ],
      "text/plain": [
       "         Imię     Nazwisko  ID  Rise to mean\n",
       "0      Alicja     Majewska  15     83.333333\n",
       "1     Andrzej    Kaczmarek   4    200.000000\n",
       "2     Bartosz     Lisowski  18   1190.000000\n",
       "3      Damian   Kowalewski  16    192.307692\n",
       "4    Elżbieta    Kaczmarek  25   1092.307692\n",
       "5        Emil        Mazur  39    100.000000\n",
       "6    Grzegorz   Piotrowski  12     50.000000\n",
       "7      Helena         Wilk  48     92.307692\n",
       "8       Julia         Król   9    870.000000\n",
       "9     Justyna  Wierzbowska  38    192.307692\n",
       "10      Kinga      Mroczek  29    270.000000\n",
       "11   Krystyna    Zielińska  42     83.333333\n",
       "12  Krzysztof    Jankowski  56   1090.000000\n",
       "13      Marta   Sokołowska  19    670.000000\n",
       "14      Marta   Wiśniewska   3    183.333333\n",
       "15     Michał       Wójcik   8   1390.000000\n",
       "16     Monika   Piwowarska  46    570.000000\n",
       "17    Natalia   Kowalewska  36    200.000000\n",
       "18       Olga      Zawisza  40   1190.000000\n",
       "19    Paulina    Kołodziej  58    370.000000\n",
       "20     Tomasz     Adamczyk   6    890.000000\n",
       "21   Wioletta   Skowrońska  44    100.000000"
      ]
     },
     "execution_count": 39,
     "metadata": {},
     "output_type": "execute_result"
    }
   ],
   "source": [
    "employees_with_avg = pd.merge(employees, avg_earnings_by_department, on='Typ Stanowiska', suffixes=('', '_Średnia'))\n",
    "\n",
    "employees_with_avg['Zarobki'] = employees_with_avg['Zarobki'].astype(float)\n",
    "\n",
    "condition = employees_with_avg['Zarobki'] < employees_with_avg['Zarobki_Średnia']\n",
    "\n",
    "employees_with_avg['Rise to mean'] = 0.0  \n",
    "employees_with_avg.loc[condition, 'Rise to mean'] = employees_with_avg.loc[condition, 'Zarobki_Średnia'] - employees_with_avg.loc[condition, 'Zarobki']\n",
    "\n",
    "grouped_rise_to_mean = employees_with_avg[employees_with_avg['Rise to mean'] > 0].groupby(['Imię', 'Nazwisko', 'ID'])['Rise to mean'].sum().reset_index()\n",
    "\n",
    "grouped_rise_to_mean"
   ]
  }
 ],
 "metadata": {
  "kernelspec": {
   "display_name": "Python 3",
   "language": "python",
   "name": "python3"
  },
  "language_info": {
   "codemirror_mode": {
    "name": "ipython",
    "version": 3
   },
   "file_extension": ".py",
   "mimetype": "text/x-python",
   "name": "python",
   "nbconvert_exporter": "python",
   "pygments_lexer": "ipython3",
   "version": "3.11.3"
  }
 },
 "nbformat": 4,
 "nbformat_minor": 2
}
